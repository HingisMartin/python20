{
 "cells": [
  {
   "cell_type": "markdown",
   "metadata": {},
   "source": [
    "You are given a string , which comprises English alphabets, determine the count of all the vowels in . \n",
    "Vowels are . Print the count of all the vowels that are available in the string ."
   ]
  },
  {
   "cell_type": "code",
   "execution_count": 28,
   "metadata": {},
   "outputs": [
    {
     "name": "stdout",
     "output_type": "stream",
     "text": [
      "HIngis\n",
      "2\n"
     ]
    }
   ],
   "source": [
    "s= input()\n",
    "a=''\n",
    "count=0\n",
    "vowels=['a','e','i','o','u']\n",
    "for a in s.lower() :\n",
    "    if a in vowels :\n",
    "        count+=1\n",
    "print(count)"
   ]
  },
  {
   "cell_type": "code",
   "execution_count": 54,
   "metadata": {},
   "outputs": [
    {
     "name": "stdout",
     "output_type": "stream",
     "text": [
      "Hingis\n",
      "2\n"
     ]
    }
   ],
   "source": [
    "s= input()\n",
    "vowels=['a','e','i','o','u']\n",
    "print(len(list(filter(lambda a: a in vowels, s))))\n"
   ]
  },
  {
   "cell_type": "markdown",
   "metadata": {},
   "source": [
    "You are given a string S. Count the number of occurrences of all the digits in the string S.\n",
    "\n",
    "Input:\n",
    "First line contains string S.\n",
    "\n",
    "Output:\n",
    "For each digit starting from 0 to 9, print the count of their occurrences in the string S. So, print  lines, each line containing 2 space separated integers. First integer i and second integer count of occurrence of i. See sample output for clarification."
   ]
  },
  {
   "cell_type": "code",
   "execution_count": 73,
   "metadata": {},
   "outputs": [
    {
     "ename": "SyntaxError",
     "evalue": "invalid syntax (<ipython-input-73-5b77ac712ec9>, line 5)",
     "output_type": "error",
     "traceback": [
      "\u001b[1;36m  File \u001b[1;32m\"<ipython-input-73-5b77ac712ec9>\"\u001b[1;36m, line \u001b[1;32m5\u001b[0m\n\u001b[1;33m    for i== s :\u001b[0m\n\u001b[1;37m          ^\u001b[0m\n\u001b[1;31mSyntaxError\u001b[0m\u001b[1;31m:\u001b[0m invalid syntax\n"
     ]
    }
   ],
   "source": [
    "s=list(map(int,input()))\n",
    "\n",
    "for i in range(0,10) :\n",
    "    count=0\n",
    "    for i  s :\n",
    "        count+=1\n",
    "    print(i,count)"
   ]
  },
  {
   "cell_type": "code",
   "execution_count": 75,
   "metadata": {},
   "outputs": [
    {
     "name": "stdout",
     "output_type": "stream",
     "text": [
      "1114550\n",
      "0 1\n",
      "1 3\n",
      "2 0\n",
      "3 0\n",
      "4 1\n",
      "5 2\n",
      "6 0\n",
      "7 0\n",
      "8 0\n",
      "9 0\n"
     ]
    }
   ],
   "source": [
    "s=list(map(int,input()))\n",
    "n=[0,1,2,3,4,5,6,7,8,9]\n",
    "d={}\n",
    "for i in n :\n",
    "    d[i]=0\n",
    "for i in s:\n",
    "    d[i]=d[i]+1  \n",
    "for i in n :\n",
    "    print(i, d[i])"
   ]
  },
  {
   "cell_type": "code",
   "execution_count": 77,
   "metadata": {},
   "outputs": [
    {
     "name": "stdout",
     "output_type": "stream",
     "text": [
      "1114450\n",
      "0 1\n",
      "1 3\n",
      "2 0\n",
      "3 0\n",
      "4 2\n",
      "5 1\n",
      "6 0\n",
      "7 0\n",
      "8 0\n",
      "9 0\n"
     ]
    }
   ],
   "source": [
    "a=input()\n",
    "for i in range(0,10):\n",
    "    print(i,a.count(str(i)))"
   ]
  },
  {
   "cell_type": "code",
   "execution_count": null,
   "metadata": {},
   "outputs": [],
   "source": [
    "111"
   ]
  },
  {
   "cell_type": "code",
   "execution_count": 31,
   "metadata": {},
   "outputs": [
    {
     "name": "stdout",
     "output_type": "stream",
     "text": [
      "3 1 0\n",
      "1 2 3\n",
      "5\n",
      "4 5 6\n",
      "5\n",
      "7 8 9 10\n",
      "8\n"
     ]
    }
   ],
   "source": [
    "n,r,c = map(int,input().split())\n",
    "mat=list()\n",
    "ro = []\n",
    "co =[]\n",
    "t=list()\n",
    "#input of mat \n",
    "for i in range(0,n) :\n",
    "    t =input()\n",
    "    print(len(t))\n",
    "#print(mat) \n",
    "\n",
    "\n",
    "\n"
   ]
  },
  {
   "cell_type": "code",
   "execution_count": null,
   "metadata": {},
   "outputs": [],
   "source": []
  },
  {
   "cell_type": "code",
   "execution_count": null,
   "metadata": {},
   "outputs": [],
   "source": []
  }
 ],
 "metadata": {
  "kernelspec": {
   "display_name": "Python 3",
   "language": "python",
   "name": "python3"
  },
  "language_info": {
   "codemirror_mode": {
    "name": "ipython",
    "version": 3
   },
   "file_extension": ".py",
   "mimetype": "text/x-python",
   "name": "python",
   "nbconvert_exporter": "python",
   "pygments_lexer": "ipython3",
   "version": "3.7.2"
  }
 },
 "nbformat": 4,
 "nbformat_minor": 2
}
