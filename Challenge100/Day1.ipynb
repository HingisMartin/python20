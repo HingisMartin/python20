{
 "cells": [
  {
   "cell_type": "markdown",
   "metadata": {},
   "source": [
    "'''You are given a polygon of N  sides with vertices numbered from 1,2,...,N . Now, exactly 2\n",
    "vertices of the polygons are colored black and remaining are colored white. \n",
    "You are required to find the number of triangles denoted by  such that:\n",
    "\n",
    "The triangle is formed by joining only the white-colored vertices of the polygon.\n",
    "The triangle shares at least one side with the polygon.\n",
    "Input format\n",
    "\n",
    "The first line contains t denoting the number of test cases.\n",
    "Next t lines contain three space-separated integers N,B1 ,B2\n",
    "and  where N is the number of sides in the polygon and B1 ,B2 denote the vertices that are colored black.\n",
    "Output format\n",
    "\n",
    "For each test case, print the answer \n",
    "representing the number of triangles that can be formed with the given conditions in the problem statement.''' "
   ]
  },
  {
   "cell_type": "markdown",
   "metadata": {},
   "source": [
    "'''Answer can be divided in 2 parts with no of triangle which share 1 side and no of triangle which share 2 sides\n",
    "and using inclusion exclusion principle . \n",
    "\n",
    "For triangles which share 1 side :\n",
    "\n",
    "triangles without b1,b2 and sharing one side = \n",
    "all triangles which share exactly one side - all triangles which have b1 as one vertex\n",
    "               - all triangles which have b2 as one vertex + all triangles which have b1 & b2 as vertex\n",
    "\n",
    "Similarly for the other part:\n",
    "\n",
    "There are 3 cases to be considered\n",
    "\n",
    "1) If b1 and b2 are adjacent then \n",
    "\n",
    "No of triangle which share one side and b1,b2 as vertex is n-4\n",
    "\n",
    "No of triangle which share two side and b1,b2 as vertex is 2\n",
    "\n",
    "2) If b1 and b2 are 1 vertex apart then \n",
    "\n",
    "No of triangle which share one side and b1,b2 as vertex is 2\n",
    "\n",
    "No of triangle which share two side and b1,b2 as vertex is 1\n",
    "\n",
    "3) If b1 and b2 do not satisfy above property \n",
    "\n",
    "No of triangle which share one side and b1,b2 as vertex is 4\n",
    "\n",
    "No of triangle which share two side and b1,b2 as vertex is 0\n",
    "\n",
    "For more clarification, see the below code'''"
   ]
  },
  {
   "cell_type": "code",
   "execution_count": 4,
   "metadata": {},
   "outputs": [
    {
     "name": "stdout",
     "output_type": "stream",
     "text": [
      "1\n",
      "6 5 2\n",
      "4\n"
     ]
    }
   ],
   "source": [
    "for _ in range(int(input())):\n",
    "    n,v1,v2=map(int,input().split());\n",
    "    d=abs(v1-v2) \n",
    "    m=max(v1,v2);\n",
    "    m1=min(v1,v2);\n",
    "    s=(n-4)**2\n",
    "    if(d==1 or(m==n and m1==1)):print(s)\n",
    "    elif(d==2or(m==n-1 and m1==1)or(m==n and m1==2)):print(s-(n-5))\n",
    "    elif(n>=6):print(s-(n-6))\n",
    "    else:print(s)"
   ]
  },
  {
   "cell_type": "markdown",
   "metadata": {},
   "source": [
    "##### "
   ]
  },
  {
   "cell_type": "code",
   "execution_count": null,
   "metadata": {},
   "outputs": [],
   "source": [
    "'''Didnt understand'''\n",
    "\n",
    "https://youtu.be/-s-S7xBxCKY"
   ]
  },
  {
   "cell_type": "markdown",
   "metadata": {},
   "source": [
    "You are given a rectangle of length a and width b. You are required to determine a circle that contains the maximum circumference that fits inside the rectangle. This type of circle is called a big circle. Your task is to determine the maximum number of big circles that can fit inside the rectangle. \n",
    "\n",
    "Input format\n",
    "\n",
    "First line: An integer t denoting the number of test cases\n",
    "First line of each test case: Integers a and b\n",
    "Output format\n",
    "\n",
    "For each test case, print the answer on a new line denoting the maximum number of big circles that can fit in the provided rectangle.  "
   ]
  },
  {
   "cell_type": "code",
   "execution_count": 1,
   "metadata": {},
   "outputs": [
    {
     "name": "stdout",
     "output_type": "stream",
     "text": [
      "1\n",
      "40 10\n",
      "4\n"
     ]
    }
   ],
   "source": [
    "import math\n",
    "for _ in range(int(input())):\n",
    "    a,b = map(int,input().split())\n",
    "    m=min(a,b)\n",
    "    m1=max(a,b)\n",
    "    ans=m1/m\n",
    "    print(math.floor(ans))\n"
   ]
  },
  {
   "cell_type": "code",
   "execution_count": null,
   "metadata": {},
   "outputs": [],
   "source": []
  }
 ],
 "metadata": {
  "kernelspec": {
   "display_name": "Python 3",
   "language": "python",
   "name": "python3"
  },
  "language_info": {
   "codemirror_mode": {
    "name": "ipython",
    "version": 3
   },
   "file_extension": ".py",
   "mimetype": "text/x-python",
   "name": "python",
   "nbconvert_exporter": "python",
   "pygments_lexer": "ipython3",
   "version": "3.7.2"
  }
 },
 "nbformat": 4,
 "nbformat_minor": 2
}
