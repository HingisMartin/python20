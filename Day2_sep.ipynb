{
 "cells": [
  {
   "cell_type": "markdown",
   "metadata": {},
   "source": [
    "Jadoo, the space alien has challenged Koba to a friendly duel. He asks Koba to write a program to print out all numbers from 70 to 80. Knowing perfectly well how easy the problem is, the Jadoo adds his own twist to the challenge. He asks Koba to write the program without using a single number in his program and also restricts the character limit to 100.\n"
   ]
  },
  {
   "cell_type": "code",
   "execution_count": 1,
   "metadata": {},
   "outputs": [
    {
     "name": "stdout",
     "output_type": "stream",
     "text": [
      "70\n",
      "71\n",
      "72\n",
      "73\n",
      "74\n",
      "75\n",
      "76\n",
      "77\n",
      "78\n",
      "79\n",
      "80\n"
     ]
    }
   ],
   "source": [
    "def print_no() :\n",
    "    for i in range(ord('F'),ord('Q')) :\n",
    "        print(i)\n",
    "\n",
    "print_no()"
   ]
  },
  {
   "cell_type": "markdown",
   "metadata": {},
   "source": [
    "Jadoo hates numbers, but he requires to print a special number \"420\" to recharge the equation of life. He asks your help to print the number but Since he hates numbers, he asks you to write the program such that there would not be any number in the code."
   ]
  },
  {
   "cell_type": "code",
   "execution_count": 2,
   "metadata": {},
   "outputs": [
    {
     "data": {
      "text/plain": [
       "420"
      ]
     },
     "execution_count": 2,
     "metadata": {},
     "output_type": "execute_result"
    }
   ],
   "source": [
    "ord('Z') + 4*  ord('A') +ord('F') "
   ]
  },
  {
   "cell_type": "code",
   "execution_count": 4,
   "metadata": {},
   "outputs": [
    {
     "name": "stdout",
     "output_type": "stream",
     "text": [
      "GAT\n",
      "CUA\n"
     ]
    }
   ],
   "source": [
    "def m() :\n",
    "    c = input()\n",
    "    l=len(c)\n",
    "    ans=''\n",
    "    for i in range(0,l) :\n",
    "            if c[i] == 'G' :\n",
    "                ans=ans+'C'\n",
    "            elif c[i] == 'C' :\n",
    "                ans=ans+'G'\n",
    "            elif c[i] == 'T' :\n",
    "                ans=ans+'A'\n",
    "            elif c[i] == 'A' :\n",
    "                ans=ans+'U'\n",
    "    print(ans)\n",
    "\n",
    "m()\n",
    "\n"
   ]
  },
  {
   "cell_type": "code",
   "execution_count": null,
   "metadata": {},
   "outputs": [],
   "source": [
    "def m() :\n",
    "    c = input()\n",
    "    l=len(c)\n",
    "    ans=''\n",
    "    for i in range(0,l) :\n",
    "        if c[i] == 'G' :\n",
    "    ans=ans+'C'\n",
    "            elif c[i] == 'C' :\n",
    "                ans=ans+'G'\n",
    "            elif c[i] == 'T' :\n",
    "                ans=ans+'A'\n",
    "            elif c[i] == 'A' :\n",
    "                ans=ans+'U'\n",
    "    print(ans)\n",
    "\n",
    "m()\n",
    "\n"
   ]
  },
  {
   "cell_type": "code",
   "execution_count": 1,
   "metadata": {},
   "outputs": [
    {
     "name": "stdout",
     "output_type": "stream",
     "text": [
      "GCTA\n",
      "CGAU\n"
     ]
    }
   ],
   "source": [
    "# method 2 \n",
    "c= input()\n",
    "d={'G':'C','C':'G','T':'A','A':'U'}\n",
    "l=len(c)\n",
    "f='S'\n",
    "ans=''\n",
    "for i in range (l):\n",
    "    if c[i] in d :\n",
    "        ans+=d[c[i]]\n",
    "    else :\n",
    "        f='X'\n",
    "\n",
    "if f != 'X' :\n",
    "    print(ans)\n",
    "else :\n",
    "    print('Invalid Input')\n",
    "        "
   ]
  },
  {
   "cell_type": "markdown",
   "metadata": {},
   "source": [
    "Raghav is currently watching Netflix. He is feeling thrilled after watching Seasons 1, 2 and 3 of 13 Reasons Why, and is desperately waiting for release of Season 4. But the makers of the show are in no mood to release the next season anytime soon. \n",
    "\n",
    "The makers of 13 Reasons Why give Raghav a challenge to solve. If he solves this challenge, then they will give exclusive copy of Season 4 to him.\n",
    "\n",
    "But Raghav is feeling lazy. Can you help him solve this challenge?\n",
    "\n",
    "Given 3 integers A, B, C. Do the following steps-\n",
    "\n",
    "Swap A and B.\n",
    "Multiply A by C.\n",
    "Add C to B.\n",
    "Output new values of A and B."
   ]
  },
  {
   "cell_type": "code",
   "execution_count": null,
   "metadata": {},
   "outputs": [],
   "source": [
    "a,b,c=map(int , input().split(\" \"))\n",
    "a,b=b,a\n",
    "print(a*c,b+c)\n"
   ]
  },
  {
   "cell_type": "code",
   "execution_count": null,
   "metadata": {},
   "outputs": [],
   "source": []
  },
  {
   "cell_type": "code",
   "execution_count": null,
   "metadata": {},
   "outputs": [],
   "source": []
  }
 ],
 "metadata": {
  "kernelspec": {
   "display_name": "Python 3",
   "language": "python",
   "name": "python3"
  },
  "language_info": {
   "codemirror_mode": {
    "name": "ipython",
    "version": 3
   },
   "file_extension": ".py",
   "mimetype": "text/x-python",
   "name": "python",
   "nbconvert_exporter": "python",
   "pygments_lexer": "ipython3",
   "version": "3.7.2"
  }
 },
 "nbformat": 4,
 "nbformat_minor": 2
}
